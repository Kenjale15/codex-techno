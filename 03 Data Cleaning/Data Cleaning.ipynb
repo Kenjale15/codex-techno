{
 "cells": [
  {
   "cell_type": "code",
   "execution_count": 5,
   "id": "3a2c3796-17c0-496e-a9e8-c29c2fe808ae",
   "metadata": {},
   "outputs": [],
   "source": [
    "import pandas as pd"
   ]
  },
  {
   "cell_type": "code",
   "execution_count": 6,
   "id": "97f447d4-f49e-450e-90c6-d7de367b5706",
   "metadata": {},
   "outputs": [],
   "source": [
    "df = pd.read_csv(r\"D:\\codex techno project\\3rd--Data Cleaning\\Data\\AB_NYC_2019.csv\")"
   ]
  },
  {
   "cell_type": "code",
   "execution_count": 7,
   "id": "57bcfec7-ec0c-498a-b288-46c24125e76f",
   "metadata": {},
   "outputs": [
    {
     "name": "stdout",
     "output_type": "stream",
     "text": [
      "     id                                              name  host_id  \\\n",
      "0  2539                Clean & quiet apt home by the park     2787   \n",
      "1  2595                             Skylit Midtown Castle     2845   \n",
      "2  3647               THE VILLAGE OF HARLEM....NEW YORK !     4632   \n",
      "3  3831                   Cozy Entire Floor of Brownstone     4869   \n",
      "4  5022  Entire Apt: Spacious Studio/Loft by central park     7192   \n",
      "\n",
      "     host_name neighbourhood_group neighbourhood  latitude  longitude  \\\n",
      "0         John            Brooklyn    Kensington  40.64749  -73.97237   \n",
      "1     Jennifer           Manhattan       Midtown  40.75362  -73.98377   \n",
      "2    Elisabeth           Manhattan        Harlem  40.80902  -73.94190   \n",
      "3  LisaRoxanne            Brooklyn  Clinton Hill  40.68514  -73.95976   \n",
      "4        Laura           Manhattan   East Harlem  40.79851  -73.94399   \n",
      "\n",
      "         room_type  price  minimum_nights  number_of_reviews last_review  \\\n",
      "0     Private room    149               1                  9  19-10-2018   \n",
      "1  Entire home/apt    225               1                 45  21-05-2019   \n",
      "2     Private room    150               3                  0         NaN   \n",
      "3  Entire home/apt     89               1                270  05-07-2019   \n",
      "4  Entire home/apt     80              10                  9  19-11-2018   \n",
      "\n",
      "   reviews_per_month  calculated_host_listings_count  availability_365  \n",
      "0               0.21                               6               365  \n",
      "1               0.38                               2               355  \n",
      "2                NaN                               1               365  \n",
      "3               4.64                               1               194  \n",
      "4               0.10                               1                 0  \n"
     ]
    }
   ],
   "source": [
    "# Preview data\n",
    "print(df.head())\n"
   ]
  },
  {
   "cell_type": "code",
   "execution_count": 8,
   "id": "c71680b0-c4b1-4e7f-96f8-f7fc8c02a39e",
   "metadata": {},
   "outputs": [
    {
     "name": "stdout",
     "output_type": "stream",
     "text": [
      "<class 'pandas.core.frame.DataFrame'>\n",
      "RangeIndex: 48895 entries, 0 to 48894\n",
      "Data columns (total 16 columns):\n",
      " #   Column                          Non-Null Count  Dtype  \n",
      "---  ------                          --------------  -----  \n",
      " 0   id                              48895 non-null  int64  \n",
      " 1   name                            48879 non-null  object \n",
      " 2   host_id                         48895 non-null  int64  \n",
      " 3   host_name                       48874 non-null  object \n",
      " 4   neighbourhood_group             48895 non-null  object \n",
      " 5   neighbourhood                   48895 non-null  object \n",
      " 6   latitude                        48895 non-null  float64\n",
      " 7   longitude                       48895 non-null  float64\n",
      " 8   room_type                       48895 non-null  object \n",
      " 9   price                           48895 non-null  int64  \n",
      " 10  minimum_nights                  48895 non-null  int64  \n",
      " 11  number_of_reviews               48895 non-null  int64  \n",
      " 12  last_review                     38843 non-null  object \n",
      " 13  reviews_per_month               38843 non-null  float64\n",
      " 14  calculated_host_listings_count  48895 non-null  int64  \n",
      " 15  availability_365                48895 non-null  int64  \n",
      "dtypes: float64(3), int64(7), object(6)\n",
      "memory usage: 6.0+ MB\n",
      "None\n"
     ]
    }
   ],
   "source": [
    "print(df.info())"
   ]
  },
  {
   "cell_type": "code",
   "execution_count": 9,
   "id": "9c3e29c2-6665-4644-a399-586fc98f4348",
   "metadata": {},
   "outputs": [
    {
     "name": "stdout",
     "output_type": "stream",
     "text": [
      "                  id            name       host_id host_name  \\\n",
      "count   4.889500e+04           48879  4.889500e+04     48874   \n",
      "unique           NaN           47896           NaN     11452   \n",
      "top              NaN  Hillside Hotel           NaN   Michael   \n",
      "freq             NaN              18           NaN       417   \n",
      "mean    1.901714e+07             NaN  6.762001e+07       NaN   \n",
      "std     1.098311e+07             NaN  7.861097e+07       NaN   \n",
      "min     2.539000e+03             NaN  2.438000e+03       NaN   \n",
      "25%     9.471945e+06             NaN  7.822033e+06       NaN   \n",
      "50%     1.967728e+07             NaN  3.079382e+07       NaN   \n",
      "75%     2.915218e+07             NaN  1.074344e+08       NaN   \n",
      "max     3.648724e+07             NaN  2.743213e+08       NaN   \n",
      "\n",
      "       neighbourhood_group neighbourhood      latitude     longitude  \\\n",
      "count                48895         48895  48895.000000  48895.000000   \n",
      "unique                   5           221           NaN           NaN   \n",
      "top              Manhattan  Williamsburg           NaN           NaN   \n",
      "freq                 21661          3920           NaN           NaN   \n",
      "mean                   NaN           NaN     40.728949    -73.952170   \n",
      "std                    NaN           NaN      0.054530      0.046157   \n",
      "min                    NaN           NaN     40.499790    -74.244420   \n",
      "25%                    NaN           NaN     40.690100    -73.983070   \n",
      "50%                    NaN           NaN     40.723070    -73.955680   \n",
      "75%                    NaN           NaN     40.763115    -73.936275   \n",
      "max                    NaN           NaN     40.913060    -73.712990   \n",
      "\n",
      "              room_type         price  minimum_nights  number_of_reviews  \\\n",
      "count             48895  48895.000000    48895.000000       48895.000000   \n",
      "unique                3           NaN             NaN                NaN   \n",
      "top     Entire home/apt           NaN             NaN                NaN   \n",
      "freq              25409           NaN             NaN                NaN   \n",
      "mean                NaN    152.720687        7.029962          23.274466   \n",
      "std                 NaN    240.154170       20.510550          44.550582   \n",
      "min                 NaN      0.000000        1.000000           0.000000   \n",
      "25%                 NaN     69.000000        1.000000           1.000000   \n",
      "50%                 NaN    106.000000        3.000000           5.000000   \n",
      "75%                 NaN    175.000000        5.000000          24.000000   \n",
      "max                 NaN  10000.000000     1250.000000         629.000000   \n",
      "\n",
      "       last_review  reviews_per_month  calculated_host_listings_count  \\\n",
      "count        38843       38843.000000                    48895.000000   \n",
      "unique        1764                NaN                             NaN   \n",
      "top     23-06-2019                NaN                             NaN   \n",
      "freq          1413                NaN                             NaN   \n",
      "mean           NaN           1.373221                        7.143982   \n",
      "std            NaN           1.680442                       32.952519   \n",
      "min            NaN           0.010000                        1.000000   \n",
      "25%            NaN           0.190000                        1.000000   \n",
      "50%            NaN           0.720000                        1.000000   \n",
      "75%            NaN           2.020000                        2.000000   \n",
      "max            NaN          58.500000                      327.000000   \n",
      "\n",
      "        availability_365  \n",
      "count       48895.000000  \n",
      "unique               NaN  \n",
      "top                  NaN  \n",
      "freq                 NaN  \n",
      "mean          112.781327  \n",
      "std           131.622289  \n",
      "min             0.000000  \n",
      "25%             0.000000  \n",
      "50%            45.000000  \n",
      "75%           227.000000  \n",
      "max           365.000000  \n"
     ]
    }
   ],
   "source": [
    "# Summary statistics\n",
    "print(df.describe(include='all'))"
   ]
  },
  {
   "cell_type": "code",
   "execution_count": 10,
   "id": "a90ad018-b907-4915-b271-25ab0c289482",
   "metadata": {},
   "outputs": [
    {
     "name": "stdout",
     "output_type": "stream",
     "text": [
      "id                                    0\n",
      "name                                 16\n",
      "host_id                               0\n",
      "host_name                            21\n",
      "neighbourhood_group                   0\n",
      "neighbourhood                         0\n",
      "latitude                              0\n",
      "longitude                             0\n",
      "room_type                             0\n",
      "price                                 0\n",
      "minimum_nights                        0\n",
      "number_of_reviews                     0\n",
      "last_review                       10052\n",
      "reviews_per_month                 10052\n",
      "calculated_host_listings_count        0\n",
      "availability_365                      0\n",
      "dtype: int64\n"
     ]
    }
   ],
   "source": [
    "# Count of missing values in each column\n",
    "print(df.isnull().sum())\n"
   ]
  },
  {
   "cell_type": "code",
   "execution_count": 13,
   "id": "9bdf784a-a2e1-459c-b64b-442d01e85475",
   "metadata": {},
   "outputs": [],
   "source": [
    "df['reviews_per_month'] = df['reviews_per_month'].fillna(0)\n"
   ]
  },
  {
   "cell_type": "code",
   "execution_count": 25,
   "id": "41c05d77-54d7-42c9-85a7-6fbb534d56ab",
   "metadata": {},
   "outputs": [],
   "source": [
    "df['last_review']=df ['last_review'].fillna('No Review')"
   ]
  },
  {
   "cell_type": "code",
   "execution_count": 15,
   "id": "8008f277-9285-4bd6-9ff2-a2db4ed6fa61",
   "metadata": {},
   "outputs": [],
   "source": [
    "df['host_name']=df['host_name'].fillna('Unknown')\n",
    "df['name']=df['name'].fillna('Unknown')"
   ]
  },
  {
   "cell_type": "code",
   "execution_count": 18,
   "id": "7020da0c-2e80-4ef2-9fa6-3a4759c9f9d5",
   "metadata": {},
   "outputs": [
    {
     "name": "stdout",
     "output_type": "stream",
     "text": [
      "Duplicates: 0\n"
     ]
    }
   ],
   "source": [
    "# Check duplicates\n",
    "print(\"Duplicates:\", df.duplicated().sum())\n",
    "\n",
    "# Remove duplicates\n",
    "df.drop_duplicates(inplace=True)"
   ]
  },
  {
   "cell_type": "code",
   "execution_count": 20,
   "id": "3d0dd1c3-6362-4725-ad5f-cc0df6320718",
   "metadata": {},
   "outputs": [],
   "source": [
    "# Convert 'last_review' to datetime\n",
    "df['last_review'] = pd.to_datetime(df['last_review'], errors='coerce', dayfirst=True)\n"
   ]
  },
  {
   "cell_type": "code",
   "execution_count": 23,
   "id": "06306f29-574a-4255-bc98-a8f92b1a66f4",
   "metadata": {},
   "outputs": [
    {
     "data": {
      "image/png": "[encoded data removed]",
      "text/plain": [
       "<Figure size 640x480 with 1 Axes>"
      ]
     },
     "metadata": {},
     "output_type": "display_data"
    }
   ],
   "source": [
    "import seaborn as sns\n",
    "import matplotlib.pyplot as plt\n",
    "\n",
    "# Check price distribution\n",
    "sns.boxplot(x=df['price'])\n",
    "plt.show()\n",
    "\n",
    "# Remove extreme outliers\n",
    "df = df[df['price'] < 1000] \n"
   ]
  },
  {
   "cell_type": "code",
   "execution_count": 26,
   "id": "173531d2-5f3b-460e-978b-23862248db91",
   "metadata": {},
   "outputs": [
    {
     "name": "stdout",
     "output_type": "stream",
     "text": [
      "id                                0\n",
      "name                              0\n",
      "host_id                           0\n",
      "host_name                         0\n",
      "neighbourhood_group               0\n",
      "neighbourhood                     0\n",
      "latitude                          0\n",
      "longitude                         0\n",
      "room_type                         0\n",
      "price                             0\n",
      "minimum_nights                    0\n",
      "number_of_reviews                 0\n",
      "last_review                       0\n",
      "reviews_per_month                 0\n",
      "calculated_host_listings_count    0\n",
      "availability_365                  0\n",
      "dtype: int64\n"
     ]
    }
   ],
   "source": [
    "# Check again for nulls\n",
    "print(df.isnull().sum())\n",
    "\n",
    "# Save cleaned dataset\n",
    "df.to_csv(\"AB_NYC_2019_Cleaned.csv\", index=False)\n"
   ]
  },
  {
   "cell_type": "code",
   "execution_count": null,
   "id": "2b673e18-e7f6-4d09-b4f6-a1a3747efc44",
   "metadata": {},
   "outputs": [],
   "source": []
  }
 ],
 "metadata": {
  "kernelspec": {
   "display_name": "Python [conda env:base] *",
   "language": "python",
   "name": "conda-base-py"
  },
  "language_info": {
   "codemirror_mode": {
    "name": "ipython",
    "version": 3
   },
   "file_extension": ".py",
   "mimetype": "text/x-python",
   "name": "python",
   "nbconvert_exporter": "python",
   "pygments_lexer": "ipython3",
   "version": "3.12.7"
  }
 },
 "nbformat": 4,
 "nbformat_minor": 5
}
